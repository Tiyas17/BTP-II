{
 "cells": [
  {
   "cell_type": "code",
   "execution_count": 1,
   "id": "7d549901",
   "metadata": {},
   "outputs": [],
   "source": [
    "import xarray as xr"
   ]
  },
  {
   "cell_type": "code",
   "execution_count": 2,
   "id": "4a36011c",
   "metadata": {},
   "outputs": [
    {
     "name": "stdout",
     "output_type": "stream",
     "text": [
      "Requirement already satisfied: netcdf4 in c:\\users\\dell\\anaconda3\\lib\\site-packages (1.6.5)\n",
      "Requirement already satisfied: cftime in c:\\users\\dell\\anaconda3\\lib\\site-packages (from netcdf4) (1.6.3)\n",
      "Requirement already satisfied: certifi in c:\\users\\dell\\anaconda3\\lib\\site-packages (from netcdf4) (2022.12.7)\n",
      "Requirement already satisfied: numpy in c:\\users\\dell\\anaconda3\\lib\\site-packages (from netcdf4) (1.23.5)\n"
     ]
    },
    {
     "name": "stderr",
     "output_type": "stream",
     "text": [
      "\n",
      "[notice] A new release of pip is available: 23.2 -> 23.3.2\n",
      "[notice] To update, run: python.exe -m pip install --upgrade pip\n"
     ]
    },
    {
     "name": "stdout",
     "output_type": "stream",
     "text": [
      "Requirement already satisfied: h5netcdf in c:\\users\\dell\\anaconda3\\lib\\site-packages (1.3.0)\n",
      "Requirement already satisfied: h5py in c:\\users\\dell\\anaconda3\\lib\\site-packages (from h5netcdf) (3.7.0)\n",
      "Requirement already satisfied: packaging in c:\\users\\dell\\anaconda3\\lib\\site-packages (from h5netcdf) (22.0)\n",
      "Requirement already satisfied: numpy>=1.14.5 in c:\\users\\dell\\anaconda3\\lib\\site-packages (from h5py->h5netcdf) (1.23.5)\n"
     ]
    },
    {
     "name": "stderr",
     "output_type": "stream",
     "text": [
      "\n",
      "[notice] A new release of pip is available: 23.2 -> 23.3.2\n",
      "[notice] To update, run: python.exe -m pip install --upgrade pip\n"
     ]
    }
   ],
   "source": [
    "!pip install netcdf4\n",
    "!pip install h5netcdf\n"
   ]
  },
  {
   "cell_type": "code",
   "execution_count": 3,
   "id": "93b56664",
   "metadata": {},
   "outputs": [],
   "source": [
    "file_path = 'D:\\\\BTP2\\\\tos_Omon_EC-Earth3-CC_historical_r1i1p1f1-20240123T113652Z-001\\\\tos_Omon_EC-Earth3-CC_historical_r1i1p1f1\\\\tos_Omon_EC-Earth3-CC_historical_r1i1p1f1_gn_185001-185012.nc'\n",
    "ds = xr.open_dataset(file_path)"
   ]
  },
  {
   "cell_type": "code",
   "execution_count": 4,
   "id": "8419434b",
   "metadata": {},
   "outputs": [
    {
     "name": "stdout",
     "output_type": "stream",
     "text": [
      "<xarray.Dataset>\n",
      "Dimensions:    (time: 12, bnds: 2, lon: 144, lat: 48)\n",
      "Coordinates:\n",
      "  * time       (time) datetime64[ns] 1850-01-16T12:00:00 ... 1850-12-16T12:00:00\n",
      "  * lon        (lon) float64 0.0 2.5 5.0 7.5 10.0 ... 350.0 352.5 355.0 357.5\n",
      "  * lat        (lat) float64 -88.12 -84.38 -80.62 -76.88 ... 80.62 84.38 88.12\n",
      "Dimensions without coordinates: bnds\n",
      "Data variables:\n",
      "    time_bnds  (time, bnds) datetime64[ns] ...\n",
      "    tos        (time, lat, lon) float32 ...\n",
      "Attributes: (12/49)\n",
      "    CDI:                                Climate Data Interface version 2.0.4 ...\n",
      "    source:                             EC-Earth3-CC (2019): \\naerosol: none\\...\n",
      "    institution:                        AEMET, Spain; BSC, Spain; CNR-ISAC, I...\n",
      "    Conventions:                        CF-1.7 CMIP-6.2\n",
      "    activity_id:                        CMIP\n",
      "    branch_method:                      standard\n",
      "    ...                                 ...\n",
      "    license:                            CMIP6 model data produced by EC-Earth...\n",
      "    cmor_version:                       3.5.0\n",
      "    tracking_id:                        hdl:21.14100/9ff9dc61-1817-4695-a0ee-...\n",
      "    history:                            Wed Jan 10 11:27:33 2024: cdo remapdi...\n",
      "    latest_applied_cmor_fixer_version:  v3.0\n",
      "    CDO:                                Climate Data Operators version 2.0.4 ...\n"
     ]
    }
   ],
   "source": [
    "print(ds)"
   ]
  },
  {
   "cell_type": "code",
   "execution_count": 8,
   "id": "036cb688",
   "metadata": {},
   "outputs": [],
   "source": [
    "import xarray as xr\n",
    "import os\n",
    "\n",
    "# Directory containing your NetCDF files\n",
    "directory_path = 'D:\\\\BTP2\\\\tos_Omon_EC-Earth3-CC_historical_r1i1p1f1-20240123T113652Z-001\\\\tos_Omon_EC-Earth3-CC_historical_r1i1p1f1\\\\Only Files'\n",
    "\n",
    "# List all NetCDF files in the directory\n",
    "nc_files = [file for file in os.listdir(directory_path) if file.endswith('.nc')]\n",
    "\n",
    "# Open all files and concatenate along the time dimension\n",
    "datasets = [xr.open_dataset(os.path.join(directory_path, file)) for file in nc_files]\n",
    "combined_dataset = xr.concat(datasets, dim='time')\n",
    "\n",
    "# Save the combined dataset to a new NetCDF file\n",
    "combined_dataset.to_netcdf('D:\\\\BTP2\\\\tos_Omon_EC-Earth3-CC_historical_r1i1p1f1-20240123T113652Z-001\\\\tos_Omon_EC-Earth3-CC_historical_r1i1p1f1\\\\Only Files\\\\combined_file.nc')\n",
    "\n",
    "# Close all opened datasets to free up resources\n",
    "for dataset in datasets:\n",
    "    dataset.close()\n"
   ]
  },
  {
   "cell_type": "code",
   "execution_count": 9,
   "id": "4eff86c1",
   "metadata": {},
   "outputs": [],
   "source": [
    "file_path = 'D:\\\\BTP2\\\\tos_Omon_EC-Earth3-CC_historical_r1i1p1f1-20240123T113652Z-001\\\\tos_Omon_EC-Earth3-CC_historical_r1i1p1f1\\\\Only Files\\\\combined_file.nc'\n",
    "ds = xr.open_dataset(file_path)"
   ]
  },
  {
   "cell_type": "code",
   "execution_count": null,
   "id": "684d53e9",
   "metadata": {},
   "outputs": [],
   "source": []
  }
 ],
 "metadata": {
  "kernelspec": {
   "display_name": "Python 3 (ipykernel)",
   "language": "python",
   "name": "python3"
  },
  "language_info": {
   "codemirror_mode": {
    "name": "ipython",
    "version": 3
   },
   "file_extension": ".py",
   "mimetype": "text/x-python",
   "name": "python",
   "nbconvert_exporter": "python",
   "pygments_lexer": "ipython3",
   "version": "3.10.9"
  }
 },
 "nbformat": 4,
 "nbformat_minor": 5
}
